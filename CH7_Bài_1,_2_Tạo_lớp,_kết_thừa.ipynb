{
  "nbformat": 4,
  "nbformat_minor": 0,
  "metadata": {
    "colab": {
      "name": "CH7: Bài 1, 2- Tạo lớp, kết thừa.ipynb",
      "provenance": [],
      "authorship_tag": "ABX9TyPpeHhuIKOBhME2eKe29tD7",
      "include_colab_link": true
    },
    "kernelspec": {
      "name": "python3",
      "display_name": "Python 3"
    }
  },
  "cells": [
    {
      "cell_type": "markdown",
      "metadata": {
        "id": "view-in-github",
        "colab_type": "text"
      },
      "source": [
        "<a href=\"https://colab.research.google.com/github/HaHoangK16/pythonbasics/blob/main/CH7_B%C3%A0i_1%2C_2_T%E1%BA%A1o_l%E1%BB%9Bp%2C_k%E1%BA%BFt_th%E1%BB%ABa.ipynb\" target=\"_parent\"><img src=\"https://colab.research.google.com/assets/colab-badge.svg\" alt=\"Open In Colab\"/></a>"
      ]
    },
    {
      "cell_type": "markdown",
      "metadata": {
        "id": "X_D1j0h-oLZQ"
      },
      "source": [
        "1) Tạo lớp có tên là Car\r\n",
        "\r\n",
        "2) Với các thuộc tính sau (có thểm thuộc tính khác tùy ý các bạn):\r\n",
        "\r\n",
        "     - name (tên dòng xe)\r\n",
        "     -  engine (số mã lực động cơ)\r\n",
        "     - color (màu xe)"
      ]
    },
    {
      "cell_type": "code",
      "metadata": {
        "id": "Y_hdvigEn5bm"
      },
      "source": [
        "class Car:\r\n",
        "  color = 'white'\r\n",
        "\r\n",
        "  def __init__(self, name, engine):\r\n",
        "    self.name = name\r\n",
        "    self.engine = engine\r\n",
        "  \r\n",
        "  def setColor(self, color):\r\n",
        "    self.color = color\r\n",
        "  \r\n",
        "  def setEngine(self, engine):\r\n",
        "    self.engine = engine\r\n",
        "  \r\n",
        "  def setName(self, name):\r\n",
        "    self.name = name\r\n",
        "  \r\n",
        "  def getEngine(self):\r\n",
        "    return self.engine\r\n",
        "  \r\n",
        "  def toString(self):\r\n",
        "    s = 'Xe {} có màu {} và động cơ {} mã lực'.format(self.name, self.color, self.engine)\r\n",
        "    return(s)"
      ],
      "execution_count": 13,
      "outputs": []
    },
    {
      "cell_type": "markdown",
      "metadata": {
        "id": "duUIvzTSsxC8"
      },
      "source": [
        "Sử dụng lớp Car"
      ]
    },
    {
      "cell_type": "code",
      "metadata": {
        "colab": {
          "base_uri": "https://localhost:8080/"
        },
        "id": "-7Mq5hvOsy9q",
        "outputId": "c4e92e2d-4897-4613-f63a-f03542d2ceed"
      },
      "source": [
        "fadil = Car('Vinfast Fadil', 1.4)\r\n",
        "print(fadil.toString())"
      ],
      "execution_count": 14,
      "outputs": [
        {
          "output_type": "stream",
          "text": [
            "Xe Vinfast Fadil có màu white và động cơ 1.4 mã lực\n"
          ],
          "name": "stdout"
        }
      ]
    },
    {
      "cell_type": "code",
      "metadata": {
        "colab": {
          "base_uri": "https://localhost:8080/"
        },
        "id": "nEWa6W58s3qB",
        "outputId": "31eef6b9-444f-4199-b6d1-00decbd58dc0"
      },
      "source": [
        "fadil.setColor(\"Red\")\r\n",
        "print(fadil.toString())"
      ],
      "execution_count": 15,
      "outputs": [
        {
          "output_type": "stream",
          "text": [
            "Xe Vinfast Fadil có màu Red và động cơ 1.4 mã lực\n"
          ],
          "name": "stdout"
        }
      ]
    },
    {
      "cell_type": "markdown",
      "metadata": {
        "id": "fCgRP0r22uLI"
      },
      "source": [
        "Tạo lớp truck"
      ]
    },
    {
      "cell_type": "code",
      "metadata": {
        "id": "rGLIF0B721EO"
      },
      "source": [
        "class Truck(Car):\r\n",
        "  def __init__(self, name, engine, mass):\r\n",
        "    super().__init__(name,engine)\r\n",
        "    self.mass = mass\r\n",
        "\r\n",
        "  def __str__(self):\r\n",
        "    a = 'Xe {} có màu {} và động cơ {} mã lực và có khối lượng là {}'.format(self.name, self.color, self.engine, self.mass)\r\n",
        "    return (a)"
      ],
      "execution_count": 19,
      "outputs": []
    },
    {
      "cell_type": "code",
      "metadata": {
        "colab": {
          "base_uri": "https://localhost:8080/"
        },
        "id": "PZMJjZl14F_K",
        "outputId": "12432d38-c033-4a4f-efd6-b8d4b2bd9581"
      },
      "source": [
        "Truck1 = Truck(\"code002\", \"engine01\", \"5t\")\r\n",
        "print(Truck1)"
      ],
      "execution_count": 20,
      "outputs": [
        {
          "output_type": "stream",
          "text": [
            "Xe code002 có màu white và động cơ engine01 mã lực và có khối lượng là 5t\n"
          ],
          "name": "stdout"
        }
      ]
    }
  ]
}