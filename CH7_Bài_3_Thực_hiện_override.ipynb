{
  "nbformat": 4,
  "nbformat_minor": 0,
  "metadata": {
    "colab": {
      "name": "CH7: Bài 3 - Thực hiện override.ipynb",
      "provenance": [],
      "authorship_tag": "ABX9TyNg4L5cplaNPzdP6HUWMQ5U",
      "include_colab_link": true
    },
    "kernelspec": {
      "name": "python3",
      "display_name": "Python 3"
    }
  },
  "cells": [
    {
      "cell_type": "markdown",
      "metadata": {
        "id": "view-in-github",
        "colab_type": "text"
      },
      "source": [
        "<a href=\"https://colab.research.google.com/github/HaHoangK16/pythonbasics/blob/main/CH7_B%C3%A0i_3_Th%E1%BB%B1c_hi%E1%BB%87n_override.ipynb\" target=\"_parent\"><img src=\"https://colab.research.google.com/assets/colab-badge.svg\" alt=\"Open In Colab\"/></a>"
      ]
    },
    {
      "cell_type": "code",
      "metadata": {
        "id": "QDVa3XoAAg25"
      },
      "source": [
        "class Car:\r\n",
        "  \r\n",
        "  color = \"White\"\r\n",
        "\r\n",
        "  \r\n",
        "  def __init__(self, name, engine):\r\n",
        "    \r\n",
        "    self.name = name\r\n",
        "    self.engine = engine\r\n",
        "  \r\n",
        "  \r\n",
        "  def set_color(self, color):\r\n",
        "    self.color = color\r\n",
        "  \r\n",
        "  \r\n",
        "  def __str__(self):\r\n",
        "    return \"{} có số mã lực động cơ là {} và có màu là {}\".format(self.name, self.engine, self.color)\r\n",
        "  \r\n",
        "  \r\n",
        "  def buy(self):\r\n",
        "    print(self.name, ' có màu ', self.color)"
      ],
      "execution_count": 9,
      "outputs": []
    },
    {
      "cell_type": "code",
      "metadata": {
        "id": "EY-RHsJvAiQp"
      },
      "source": [
        "class Truck(Car):\r\n",
        "  \r\n",
        "  def __init__(self, name, engine, mass):\r\n",
        "    super().__init__(name, engine)\r\n",
        "    \r\n",
        "    self.mass = mass\r\n",
        "\r\n",
        "  def  __str__(self):\r\n",
        "    return \"{} có mã số động cơ là {} và có màu là {} có khối lượng là {}\".format(self.name, self.engine, self.color, self.mass)\r\n",
        "  \r\n",
        "  \r\n",
        "  def buy(self):\r\n",
        "    print('Chiếc xe ', self.name, ' có màu ', self.color)"
      ],
      "execution_count": 10,
      "outputs": []
    },
    {
      "cell_type": "code",
      "metadata": {
        "colab": {
          "base_uri": "https://localhost:8080/"
        },
        "id": "Gf2q6ubBAl_A",
        "outputId": "feb1c338-6d05-44a6-a086-53a0159f6a0a"
      },
      "source": [
        "hung = Car(\"Aba\", \"\")\r\n",
        "hung.buy()"
      ],
      "execution_count": 11,
      "outputs": [
        {
          "output_type": "stream",
          "text": [
            "Aba  có màu  White\n"
          ],
          "name": "stdout"
        }
      ]
    }
  ]
}