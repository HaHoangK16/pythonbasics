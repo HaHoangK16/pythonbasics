{
  "nbformat": 4,
  "nbformat_minor": 0,
  "metadata": {
    "colab": {
      "name": "BÀI TẬP LẬP TRÌNH CHƯƠNG 2.ipynb",
      "provenance": [],
      "collapsed_sections": [],
      "authorship_tag": "ABX9TyOl6plS5HiO9uqE2itVLLZH",
      "include_colab_link": true
    },
    "kernelspec": {
      "name": "python3",
      "display_name": "Python 3"
    }
  },
  "cells": [
    {
      "cell_type": "markdown",
      "metadata": {
        "id": "view-in-github",
        "colab_type": "text"
      },
      "source": [
        "<a href=\"https://colab.research.google.com/github/HaHoangK16/pythonbasics/blob/main/B%C3%80I_T%E1%BA%ACP_L%E1%BA%ACP_TR%C3%8CNH_CH%C6%AF%C6%A0NG_2.ipynb\" target=\"_parent\"><img src=\"https://colab.research.google.com/assets/colab-badge.svg\" alt=\"Open In Colab\"/></a>"
      ]
    },
    {
      "cell_type": "markdown",
      "metadata": {
        "id": "GA_w6QcYwXqd"
      },
      "source": [
        "Bài 1: Lập trình nhập vào từ bàn phím 2 số nguyên và tính:"
      ]
    },
    {
      "cell_type": "markdown",
      "metadata": {
        "id": "vj5t_cy5waRT"
      },
      "source": [
        "1. Tổng của 2 số"
      ]
    },
    {
      "cell_type": "code",
      "metadata": {
        "colab": {
          "base_uri": "https://localhost:8080/"
        },
        "id": "0CLC17tcvHEi",
        "outputId": "c1c6cba1-316e-4a0f-fbf2-49376469b1a3"
      },
      "source": [
        "a = input(\"a=\")\r\n",
        "b= input(\"b=\")\r\n",
        "a = int(a)\r\n",
        "b= int(b)\r\n",
        "c=a+b\r\n",
        "print(\"a+b\",c)"
      ],
      "execution_count": 1,
      "outputs": [
        {
          "output_type": "stream",
          "text": [
            "a=5\n",
            "b=6\n",
            "a+b 11\n"
          ],
          "name": "stdout"
        }
      ]
    },
    {
      "cell_type": "markdown",
      "metadata": {
        "id": "NhTU_i1Zwt7B"
      },
      "source": [
        "2. Tích của 2 số"
      ]
    },
    {
      "cell_type": "code",
      "metadata": {
        "colab": {
          "base_uri": "https://localhost:8080/"
        },
        "id": "PTG_9zYqwzBR",
        "outputId": "b6998423-6dc2-4a8e-a3b0-23117e33dc1d"
      },
      "source": [
        "d=a*b\r\n",
        "print(\"a*b\",d)"
      ],
      "execution_count": 2,
      "outputs": [
        {
          "output_type": "stream",
          "text": [
            "a*b 30\n"
          ],
          "name": "stdout"
        }
      ]
    },
    {
      "cell_type": "markdown",
      "metadata": {
        "id": "7UE37skfxCAp"
      },
      "source": [
        "3. Hiệu của 2 số"
      ]
    },
    {
      "cell_type": "code",
      "metadata": {
        "colab": {
          "base_uri": "https://localhost:8080/"
        },
        "id": "ErUZ5B5dxD9X",
        "outputId": "3db99fa7-cf8b-4348-8107-c42a5fe07c97"
      },
      "source": [
        "e=a-b\r\n",
        "print(\"a-b\",e)"
      ],
      "execution_count": 3,
      "outputs": [
        {
          "output_type": "stream",
          "text": [
            "a-b -1\n"
          ],
          "name": "stdout"
        }
      ]
    },
    {
      "cell_type": "markdown",
      "metadata": {
        "id": "-fc1gqu4z6bU"
      },
      "source": [
        "4. Phép chia lấy phần dư của 2 số"
      ]
    },
    {
      "cell_type": "code",
      "metadata": {
        "colab": {
          "base_uri": "https://localhost:8080/"
        },
        "id": "R1LYW4C8z96w",
        "outputId": "be2f278f-a2b6-464d-a899-482c6a9febde"
      },
      "source": [
        "f=a%b\r\n",
        "print(\"a%b\",f)"
      ],
      "execution_count": 4,
      "outputs": [
        {
          "output_type": "stream",
          "text": [
            "a%b 5\n"
          ],
          "name": "stdout"
        }
      ]
    },
    {
      "cell_type": "markdown",
      "metadata": {
        "id": "QR3krhMp0PPp"
      },
      "source": [
        "5. Phép chia lấy phần nguyên của 2 số"
      ]
    },
    {
      "cell_type": "code",
      "metadata": {
        "colab": {
          "base_uri": "https://localhost:8080/"
        },
        "id": "kfHzUvnt0R3g",
        "outputId": "7e2d2b40-6850-4a8b-8017-6beef4f6aa03"
      },
      "source": [
        "g=a//b\r\n",
        "print(\"a//b\",g)"
      ],
      "execution_count": 5,
      "outputs": [
        {
          "output_type": "stream",
          "text": [
            "a//b 0\n"
          ],
          "name": "stdout"
        }
      ]
    },
    {
      "cell_type": "markdown",
      "metadata": {
        "id": "Rrju8XTj1xTo"
      },
      "source": [
        "Bài 2: Lập trình nhập vào từ bàn phím 2 số thực và tính:"
      ]
    },
    {
      "cell_type": "markdown",
      "metadata": {
        "id": "Hj1lFoNO133d"
      },
      "source": [
        "1. Tổng của 2 số\r\n",
        "2. Tích của 2 số\r\n",
        "3. Hiệu của 2 số\r\n",
        "4. Thương của 2 số"
      ]
    },
    {
      "cell_type": "code",
      "metadata": {
        "colab": {
          "base_uri": "https://localhost:8080/"
        },
        "id": "ed6Ws2mL6H-s",
        "outputId": "6df754cd-b8a3-4606-c163-506fd644f893"
      },
      "source": [
        "a = input(\"a=\")\r\n",
        "b= input(\"b=\")\r\n",
        "a = float(a)\r\n",
        "b= float(b)\r\n",
        "\r\n",
        "c=a+b\r\n",
        "print(\"a+b\",c)\r\n",
        "\r\n",
        "d=a*b\r\n",
        "print(\"a*b\",d)\r\n",
        "\r\n",
        "e=a-b\r\n",
        "print(\"a-b\",e)\r\n",
        "\r\n",
        "f=a/b\r\n",
        "print(\"a/b\",f)"
      ],
      "execution_count": 6,
      "outputs": [
        {
          "output_type": "stream",
          "text": [
            "a=5\n",
            "b=2\n",
            "a+b 7.0\n",
            "a*b 10.0\n",
            "a-b 3.0\n",
            "a/b 2.5\n"
          ],
          "name": "stdout"
        }
      ]
    },
    {
      "cell_type": "markdown",
      "metadata": {
        "id": "lWK51O8p6q4S"
      },
      "source": [
        "Bài 3: (Sử dụng các hàm toán học) Nhập một số từ bàn phím và tính:"
      ]
    },
    {
      "cell_type": "markdown",
      "metadata": {
        "id": "Wes5co9H6tMQ"
      },
      "source": [
        ""
      ]
    }
  ]
}